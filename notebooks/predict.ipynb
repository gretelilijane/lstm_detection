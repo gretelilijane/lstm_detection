{
 "cells": [
  {
   "cell_type": "code",
   "execution_count": 1,
   "metadata": {},
   "outputs": [
    {
     "name": "stdout",
     "output_type": "stream",
     "text": [
      "Jupyter environment detected. Enabling Open3D WebVisualizer.\n",
      "[Open3D INFO] WebRTC GUI backend enabled.\n",
      "[Open3D INFO] WebRTCWindowSystem: HTTP handshake server disabled.\n"
     ]
    },
    {
     "name": "stderr",
     "output_type": "stream",
     "text": [
      "2023-06-13 11:38:42.676742: I tensorflow/core/platform/cpu_feature_guard.cc:182] This TensorFlow binary is optimized to use available CPU instructions in performance-critical operations.\n",
      "To enable the following instructions: AVX2 FMA, in other operations, rebuild TensorFlow with the appropriate compiler flags.\n",
      "2023-06-13 11:38:43.330782: W tensorflow/compiler/tf2tensorrt/utils/py_utils.cc:38] TF-TRT Warning: Could not find TensorRT\n"
     ]
    },
    {
     "name": "stdout",
     "output_type": "stream",
     "text": [
      "shape after loading: (20, 100, 64, 64) (20, 100, 64, 64)\n",
      "shape after expand dimesnions: (20, 100, 64, 64, 1) (20, 100, 64, 64, 1)\n"
     ]
    }
   ],
   "source": [
    "import numpy as np\n",
    "import matplotlib.pyplot as plt\n",
    "import open3d as o3d\n",
    "from datetime import datetime\n",
    "import os\n",
    "\n",
    "from lstm.model import create_model\n",
    "from lstm.loader import load_data\n",
    "from lstm.utils import SlicingDirection\n",
    "from lstm.process_results import imgs_to_voi, voi_to_object_pcd, calculate_performance_metrics_from_pcds\n",
    "import lstm.config as config\n",
    "\n",
    "# Load data\n",
    "rc_test_dataset, gt_test_dataset = load_data(config.RC_TEST_DATA_PATH, config.GT_TEST_DATA_PATH)"
   ]
  },
  {
   "attachments": {},
   "cell_type": "markdown",
   "metadata": {},
   "source": [
    "Load model"
   ]
  },
  {
   "cell_type": "code",
   "execution_count": 2,
   "metadata": {},
   "outputs": [
    {
     "name": "stderr",
     "output_type": "stream",
     "text": [
      "2023-06-13 11:38:46.470736: I tensorflow/compiler/xla/stream_executor/cuda/cuda_gpu_executor.cc:996] successful NUMA node read from SysFS had negative value (-1), but there must be at least one NUMA node, so returning NUMA node zero. See more at https://github.com/torvalds/linux/blob/v6.0/Documentation/ABI/testing/sysfs-bus-pci#L344-L355\n",
      "2023-06-13 11:38:46.519371: I tensorflow/compiler/xla/stream_executor/cuda/cuda_gpu_executor.cc:996] successful NUMA node read from SysFS had negative value (-1), but there must be at least one NUMA node, so returning NUMA node zero. See more at https://github.com/torvalds/linux/blob/v6.0/Documentation/ABI/testing/sysfs-bus-pci#L344-L355\n",
      "2023-06-13 11:38:46.519540: I tensorflow/compiler/xla/stream_executor/cuda/cuda_gpu_executor.cc:996] successful NUMA node read from SysFS had negative value (-1), but there must be at least one NUMA node, so returning NUMA node zero. See more at https://github.com/torvalds/linux/blob/v6.0/Documentation/ABI/testing/sysfs-bus-pci#L344-L355\n",
      "2023-06-13 11:38:46.520289: I tensorflow/compiler/xla/stream_executor/cuda/cuda_gpu_executor.cc:996] successful NUMA node read from SysFS had negative value (-1), but there must be at least one NUMA node, so returning NUMA node zero. See more at https://github.com/torvalds/linux/blob/v6.0/Documentation/ABI/testing/sysfs-bus-pci#L344-L355\n",
      "2023-06-13 11:38:46.520406: I tensorflow/compiler/xla/stream_executor/cuda/cuda_gpu_executor.cc:996] successful NUMA node read from SysFS had negative value (-1), but there must be at least one NUMA node, so returning NUMA node zero. See more at https://github.com/torvalds/linux/blob/v6.0/Documentation/ABI/testing/sysfs-bus-pci#L344-L355\n",
      "2023-06-13 11:38:46.520500: I tensorflow/compiler/xla/stream_executor/cuda/cuda_gpu_executor.cc:996] successful NUMA node read from SysFS had negative value (-1), but there must be at least one NUMA node, so returning NUMA node zero. See more at https://github.com/torvalds/linux/blob/v6.0/Documentation/ABI/testing/sysfs-bus-pci#L344-L355\n",
      "2023-06-13 11:38:47.019799: I tensorflow/compiler/xla/stream_executor/cuda/cuda_gpu_executor.cc:996] successful NUMA node read from SysFS had negative value (-1), but there must be at least one NUMA node, so returning NUMA node zero. See more at https://github.com/torvalds/linux/blob/v6.0/Documentation/ABI/testing/sysfs-bus-pci#L344-L355\n",
      "2023-06-13 11:38:47.019947: I tensorflow/compiler/xla/stream_executor/cuda/cuda_gpu_executor.cc:996] successful NUMA node read from SysFS had negative value (-1), but there must be at least one NUMA node, so returning NUMA node zero. See more at https://github.com/torvalds/linux/blob/v6.0/Documentation/ABI/testing/sysfs-bus-pci#L344-L355\n",
      "2023-06-13 11:38:47.020055: I tensorflow/compiler/xla/stream_executor/cuda/cuda_gpu_executor.cc:996] successful NUMA node read from SysFS had negative value (-1), but there must be at least one NUMA node, so returning NUMA node zero. See more at https://github.com/torvalds/linux/blob/v6.0/Documentation/ABI/testing/sysfs-bus-pci#L344-L355\n",
      "2023-06-13 11:38:47.020149: I tensorflow/core/common_runtime/gpu/gpu_device.cc:1635] Created device /job:localhost/replica:0/task:0/device:GPU:0 with 5178 MB memory:  -> device: 0, name: NVIDIA GeForce RTX 3070 Laptop GPU, pci bus id: 0000:01:00.0, compute capability: 8.6\n"
     ]
    },
    {
     "data": {
      "text/plain": [
       "<tensorflow.python.checkpoint.checkpoint.CheckpointLoadStatus at 0x7f79e3f00280>"
      ]
     },
     "execution_count": 2,
     "metadata": {},
     "output_type": "execute_result"
    }
   ],
   "source": [
    "\n",
    "# Load model from checkpoints\n",
    "model = create_model() #(None, *x_train.shape[2:])\n",
    "\n",
    "# Restore the weights\n",
    "model.load_weights(config.CHECKPOINT_DIR)\n",
    "#model.summary()"
   ]
  },
  {
   "attachments": {},
   "cell_type": "markdown",
   "metadata": {},
   "source": [
    "Frame Prediction Visualizations"
   ]
  },
  {
   "cell_type": "code",
   "execution_count": null,
   "metadata": {},
   "outputs": [],
   "source": [
    "# Select a random example from the validation dataset.\n",
    "choice_index = np.random.choice(range(len(rc_test_dataset)), size=1)[0]\n",
    "\n",
    "# Select one example from the dataset\n",
    "choice_index = 4\n",
    "\n",
    "rc_original_frames = rc_test_dataset[choice_index]\n",
    "gt_original_frames = gt_test_dataset[choice_index]\n",
    "\n",
    "#choice_index = 70\n",
    "print('Choice index', choice_index)\n",
    "predictions = []\n",
    "\n",
    "level_names = []\n",
    "\n",
    "for i in range(5, 100):\n",
    "    # Extract the model's prediction and post-process it.\n",
    "    # new_prediction = predict_fn(tf.constant(np.expand_dims(rc_original_frames, axis=0)))\n",
    "    level_names.append(f'level_{i+1}.png')\n",
    "\n",
    "    new_prediction = model.predict(np.expand_dims(rc_original_frames[i:i+5, ...], axis=0))\n",
    "    new_prediction = np.squeeze(new_prediction, axis=0)\n",
    "    predicted_frame = np.expand_dims(new_prediction[-1, ...], axis=0)\n",
    "\n",
    "    # Predicted frames\n",
    "    predictions.append(predicted_frame)\n",
    "\n",
    "predictions = np.array(predictions)\n",
    "\n",
    "\n",
    "now = datetime.now()\n",
    "now_strf = now.strftime(\"%m-%d-%yT%H-%M\")\n",
    "\n",
    "prediction_dir = os.path.join(config.DATA_DIR, now_strf, 'prediction')\n",
    "gt_dir = os.path.join(config.DATA_DIR, now_strf, 'gt')\n",
    "binary_prediction_dir = os.path.join(config.DATA_DIR, now_strf, 'binary_prediction')\n",
    "\n",
    "os.makedirs(prediction_dir, exist_ok=True)\n",
    "os.makedirs(gt_dir, exist_ok=True)\n",
    "os.makedirs(binary_prediction_dir, exist_ok=True)\n",
    "   \n",
    "for i, prediction in enumerate(predictions):\n",
    "    plt.imsave(os.path.join(prediction_dir, level_names[i]), np.squeeze(prediction), cmap='gray')\n",
    "    plt.imsave(os.path.join(gt_dir, level_names[i]), np.squeeze(gt_original_frames[i+5]), cmap='gray')\n",
    "\n",
    "    binary_im = np.zeros(shape=np.squeeze(prediction).shape[:2], dtype=int)\n",
    "    binary_im[(np.squeeze(prediction) > 0.3)] = 1\n",
    "\n",
    "    plt.imsave(os.path.join(binary_prediction_dir, level_names[i]), binary_im, cmap='gray')"
   ]
  },
  {
   "attachments": {},
   "cell_type": "markdown",
   "metadata": {},
   "source": [
    "Process results"
   ]
  },
  {
   "cell_type": "code",
   "execution_count": 4,
   "metadata": {},
   "outputs": [
    {
     "data": {
      "text/plain": [
       "{'TP': 1853,\n",
       " 'FP': 20978,\n",
       " 'FN': 1072,\n",
       " 'TN': 2026498,\n",
       " 'accuracy': 0.9892460060251629,\n",
       " 'recall': 0.6335042735042735,\n",
       " 'precision': 0.08116157855547282,\n",
       " 'specificity': 0.9897542144572147}"
      ]
     },
     "execution_count": 4,
     "metadata": {},
     "output_type": "execute_result"
    }
   ],
   "source": [
    "# images to voi\n",
    "dt_voi = imgs_to_voi(binary_prediction_dir, config.VOI_SIZE, SlicingDirection.z)\n",
    "gt_voi = imgs_to_voi(gt_dir, config.VOI_SIZE, SlicingDirection.z)\n",
    "\n",
    "# voi to open3d pcd\n",
    "dt_pcd = voi_to_object_pcd(dt_voi, [0, 0, 1]) \n",
    "gt_pcd = voi_to_object_pcd(gt_voi, [0, 1, 0]) \n",
    "\n",
    "o3d.visualization.draw_geometries([dt_pcd, gt_pcd])\n",
    "\n",
    "# Calculate performance metrics\n",
    "calculate_performance_metrics_from_pcds(dt_pcd, gt_pcd)"
   ]
  }
 ],
 "metadata": {
  "kernelspec": {
   "display_name": "Python 3",
   "language": "python",
   "name": "python3"
  },
  "language_info": {
   "codemirror_mode": {
    "name": "ipython",
    "version": 3
   },
   "file_extension": ".py",
   "mimetype": "text/x-python",
   "name": "python",
   "nbconvert_exporter": "python",
   "pygments_lexer": "ipython3",
   "version": "3.10.6"
  },
  "orig_nbformat": 4,
  "vscode": {
   "interpreter": {
    "hash": "916dbcbb3f70747c44a77c7bcd40155683ae19c65e1c03b4aa3499c5328201f1"
   }
  }
 },
 "nbformat": 4,
 "nbformat_minor": 2
}
