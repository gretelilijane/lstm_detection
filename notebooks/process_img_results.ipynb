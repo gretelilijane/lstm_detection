{
 "cells": [
  {
   "cell_type": "code",
   "execution_count": 4,
   "metadata": {},
   "outputs": [
    {
     "data": {
      "text/plain": [
       "{'TP': 1794,\n",
       " 'FP': 2576,\n",
       " 'FN': 1131,\n",
       " 'TN': 2044900,\n",
       " 'accuracy': 0.9981920609675864,\n",
       " 'recall': 0.6133333333333333,\n",
       " 'precision': 0.4105263157894737,\n",
       " 'specificity': 0.9987418655945174}"
      ]
     },
     "execution_count": 4,
     "metadata": {},
     "output_type": "execute_result"
    }
   ],
   "source": [
    "import open3d as o3d\n",
    "\n",
    "from lstm.utils import SlicingDirection\n",
    "from lstm.process_results import imgs_to_voi, voi_to_object_pcd, calculate_performance_metrics_from_pcds\n",
    "\n",
    "voi_shape = (201, 101, 101)\n",
    "\n",
    "# images to voi\n",
    "dt_voi = imgs_to_voi('/home/grete/Projects/particle_detection/data/05-26-23T14-01/binary_prediction/', voi_shape, SlicingDirection.z)\n",
    "gt_voi = imgs_to_voi('/home/grete/Projects/particle_detection/data/05-26-23T14-01/gt/', voi_shape, SlicingDirection.z)\n",
    "\n",
    "# voi to open3d pcd\n",
    "dt_pcd = voi_to_object_pcd(dt_voi, [0, 0, 1]) \n",
    "gt_pcd = voi_to_object_pcd(gt_voi, [0, 1, 0]) \n",
    "\n",
    "o3d.visualization.draw_geometries([dt_pcd, gt_pcd])\n",
    "\n",
    "# Calculate performance metrics\n",
    "calculate_performance_metrics_from_pcds(dt_pcd, gt_pcd)"
   ]
  }
 ],
 "metadata": {
  "kernelspec": {
   "display_name": "Python 3",
   "language": "python",
   "name": "python3"
  },
  "language_info": {
   "codemirror_mode": {
    "name": "ipython",
    "version": 3
   },
   "file_extension": ".py",
   "mimetype": "text/x-python",
   "name": "python",
   "nbconvert_exporter": "python",
   "pygments_lexer": "ipython3",
   "version": "3.10.6"
  },
  "orig_nbformat": 4
 },
 "nbformat": 4,
 "nbformat_minor": 2
}
